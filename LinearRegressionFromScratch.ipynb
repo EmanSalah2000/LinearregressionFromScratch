{
  "nbformat": 4,
  "nbformat_minor": 0,
  "metadata": {
    "colab": {
      "provenance": [],
      "collapsed_sections": [],
      "authorship_tag": "ABX9TyPZt96n32DF4zR/WBCpqaiz",
      "include_colab_link": true
    },
    "kernelspec": {
      "name": "python3",
      "display_name": "Python 3"
    },
    "language_info": {
      "name": "python"
    }
  },
  "cells": [
    {
      "cell_type": "markdown",
      "metadata": {
        "id": "view-in-github",
        "colab_type": "text"
      },
      "source": [
        "<a href=\"https://colab.research.google.com/github/EmanSalah2000/LinearregressionFromScratch/blob/main/LinearRegressionFromScratch.ipynb\" target=\"_parent\"><img src=\"https://colab.research.google.com/assets/colab-badge.svg\" alt=\"Open In Colab\"/></a>"
      ]
    },
    {
      "cell_type": "code",
      "execution_count": 12,
      "metadata": {
        "id": "0mn2UT4h0ag1"
      },
      "outputs": [],
      "source": [
        "import numpy as np\n",
        "import pandas as pd\n",
        "import matplotlib.pyplot as plt\n",
        "from matplotlib import style\n",
        "import random\n",
        "style.use('ggplot')\n"
      ]
    },
    {
      "cell_type": "markdown",
      "source": [
        "linear regression algorithm "
      ],
      "metadata": {
        "id": "e52Vs9g7gJ3c"
      }
    },
    {
      "cell_type": "code",
      "source": [
        "\n",
        "def BestFitSlopeandintercept(xs, ys):\n",
        "  mean_x=np.mean(xs)\n",
        "  mean_y=np.mean(ys)\n",
        "  n_a1=0\n",
        "  d_a1=0\n",
        "  for x, y in zip(xs,ys):\n",
        "    n_a1=n_a1+(x-mean_x)*(y-mean_y)\n",
        "    d_a1=d_a1+(x-mean_x)**2\n",
        "  a1=n_a1/d_a1\n",
        "  a0=mean_y-a1*mean_x\n",
        "  return a1, a0"
      ],
      "metadata": {
        "id": "K6H0XQlOaL6Q"
      },
      "execution_count": 13,
      "outputs": []
    },
    {
      "cell_type": "markdown",
      "source": [
        "2. create dataset "
      ],
      "metadata": {
        "id": "K9tt-IAQN2q0"
      }
    },
    {
      "cell_type": "code",
      "source": [
        "# number of points  , varience  , step,  corrleation \n",
        "def CreateDataSet(NumPoints,Varience ,step=2 , corrleation=False):\n",
        "  value=1\n",
        "  ys=[] # all value of y (x,y)point\n",
        "  for i in range(NumPoints):\n",
        "    y=value+random.randrange(-Varience , Varience)\n",
        "    ys.append(y)\n",
        "   # if postive corrleation x increase and y increase \n",
        "   # if negative corrleation if x increase y decrease \n",
        "   # if 0 no corrleation \n",
        "\n",
        "    if corrleation and corrleation=='pos':\n",
        "      value+=step\n",
        "    elif corrleation and corrleation=='neg' :\n",
        "      value-=step\n",
        "  xs=[i for i in range(len(ys))]\n",
        "  return np.array(xs, dtype=np.float64), np.array(ys,dtype=np.float64)\n",
        "\n",
        "\n",
        "\n",
        "\n"
      ],
      "metadata": {
        "id": "PqTdCl1zAd33"
      },
      "execution_count": 14,
      "outputs": []
    },
    {
      "cell_type": "code",
      "source": [
        "xs ,ys =CreateDataSet(100, 20 ,2,'pos')\n",
        "\n",
        "plt.scatter(xs,ys,label='data' , color='b')"
      ],
      "metadata": {
        "colab": {
          "base_uri": "https://localhost:8080/",
          "height": 283
        },
        "id": "SXLN3FmzSPNd",
        "outputId": "e295521e-ff07-48ae-ca16-6df138cd30da"
      },
      "execution_count": 15,
      "outputs": [
        {
          "output_type": "execute_result",
          "data": {
            "text/plain": [
              "<matplotlib.collections.PathCollection at 0x7fed0d2aa210>"
            ]
          },
          "metadata": {},
          "execution_count": 15
        },
        {
          "output_type": "display_data",
          "data": {
            "text/plain": [
              "<Figure size 432x288 with 1 Axes>"
            ],
            "image/png": "[encoded data removed]"
          },
          "metadata": {}
        }
      ]
    },
    {
      "cell_type": "code",
      "source": [
        "w1,w0=BestFitSlopeandintercept(xs,ys)"
      ],
      "metadata": {
        "id": "1yRQbPnPisoV"
      },
      "execution_count": 16,
      "outputs": []
    },
    {
      "cell_type": "code",
      "source": [
        "regression_line=[(w1*x)+w0 for x in xs]"
      ],
      "metadata": {
        "id": "15puwh5wi86S"
      },
      "execution_count": 17,
      "outputs": []
    },
    {
      "cell_type": "code",
      "source": [
        "from prompt_toolkit.layout.containers import ColorColumn\n",
        "plt.scatter(xs,ys, color='b') # c cyan\n",
        "plt.plot(xs, regression_line ,label='regression line' , color='r') # b blue"
      ],
      "metadata": {
        "colab": {
          "base_uri": "https://localhost:8080/",
          "height": 283
        },
        "id": "V0KfVyOJjQM6",
        "outputId": "b54ef6aa-50f8-4beb-a6de-ec1bb4305206"
      },
      "execution_count": 18,
      "outputs": [
        {
          "output_type": "execute_result",
          "data": {
            "text/plain": [
              "[<matplotlib.lines.Line2D at 0x7fed0c72a6d0>]"
            ]
          },
          "metadata": {},
          "execution_count": 18
        },
        {
          "output_type": "display_data",
          "data": {
            "text/plain": [
              "<Figure size 432x288 with 1 Axes>"
            ],
            "image/png": "[encoded data removed]"
          },
          "metadata": {}
        }
      ]
    }
  ]
}